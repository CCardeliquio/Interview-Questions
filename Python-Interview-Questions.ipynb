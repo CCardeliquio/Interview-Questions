{
 "cells": [
  {
   "cell_type": "markdown",
   "id": "3c03f833-6666-46d8-8f9f-e5c6376b5d97",
   "metadata": {
    "tags": []
   },
   "source": [
    "#### Python Interview Questions"
   ]
  },
  {
   "cell_type": "markdown",
   "id": "0a832e97-65e0-48ff-97d6-1d3d08d1d0fc",
   "metadata": {},
   "source": [
    "#### <span style=\"color:#22AACC\">Question 01: Fibonacci</span>\n",
    "\n",
    "Let us begin with a warm up. Provide a function to display the Fibonacci sequence.\n",
    "Let us take two different approaches: bottom-up and top-down."
   ]
  },
  {
   "cell_type": "code",
   "execution_count": 1,
   "id": "ff066f2c-bfc6-4a1e-91a4-5caa9cdb3a1c",
   "metadata": {},
   "outputs": [],
   "source": [
    "\"\"\"\"\"\"\"\"\"\"\"\"\"\"\"\"\"\"\"\"\"\"\"\"\"\"\"\"\"\"\"\"\"\"\"\"\"\"\"\"\"\"\"\"\"\"\"\"\"\"\"\"\"\"\"\"\"\"\"\"\"\"\"\"\"\"\"\"\"\"\"\"\"\"\"\"\"\"\"\"\"\"\n",
    "\n",
    "    Fibonacci bottom-up\n",
    "    \n",
    "    Very straightforward and very pythonic. We can just start with the first \n",
    "    two values of the sequence and create a for loop to get the next values\n",
    "\n",
    "\"\"\"\"\"\"\"\"\"\"\"\"\"\"\"\"\"\"\"\"\"\"\"\"\"\"\"\"\"\"\"\"\"\"\"\"\"\"\"\"\"\"\"\"\"\"\"\"\"\"\"\"\"\"\"\"\"\"\"\"\"\"\"\"\"\"\"\"\"\"\"\"\"\"\"\"\"\"\"\"\"\"\n",
    "\n",
    "def fibonacci(n):\n",
    "    a, b = 1, 1\n",
    "    for _ in range(n-2):\n",
    "        a, b = b, a + b\n",
    "    return b\n",
    "\n",
    "\"\"\"\"\"\"\"\"\"\"\"\"\"\"\"\"\"\"\"\"\"\"\"\"\"\"\"\"\"\"\"\"\"\"\"\"\"\"\"\"\"\"\"\"\"\"\"\"\"\"\"\"\"\"\"\"\"\"\"\"\"\"\"\"\"\"\"\"\"\"\"\"\"\"\"\"\"\"\"\"\"\"\n",
    "\n",
    "    Fibonacci top-down (recursive)\n",
    "    A second solution is to use recursion and caching the values \n",
    "    already calculated\n",
    "\n",
    "\"\"\"\"\"\"\"\"\"\"\"\"\"\"\"\"\"\"\"\"\"\"\"\"\"\"\"\"\"\"\"\"\"\"\"\"\"\"\"\"\"\"\"\"\"\"\"\"\"\"\"\"\"\"\"\"\"\"\"\"\"\"\"\"\"\"\"\"\"\"\"\"\"\"\"\"\"\"\"\"\"\"\n",
    "\n",
    "cache = {}\n",
    "def fiboRec(n):\n",
    "    #Nonsensical case\n",
    "    if n < 1:\n",
    "        return -1\n",
    "    #Base Case\n",
    "    if n == 1 or n == 2:\n",
    "        return 1\n",
    "    #Recursion\n",
    "    if n not in cache:\n",
    "        cache[n] = fiboRec(n-1) + fiboRec(n-2)\n",
    "    return cache[n]"
   ]
  },
  {
   "cell_type": "code",
   "execution_count": 14,
   "id": "8d04e034-5bdd-41d1-b965-619edbdea714",
   "metadata": {},
   "outputs": [
    {
     "name": "stdout",
     "output_type": "stream",
     "text": [
      "Diference of the 100th term of the bottom-up approach and the same element on the top-down approach:  0\n",
      "\n",
      "First ten elements:  [1, 1, 2, 3, 5, 8, 13, 21, 34, 55]\n"
     ]
    }
   ],
   "source": [
    "#Driver Code:\n",
    "n = 100\n",
    "print(\"Difference of the 100th term of the bottom-up approach and the same element on the top-down approach: \", fibonacci(n)-fiboRec(n))\n",
    "print(\"\\nFirst ten elements: \", [fiboRec(i) for i in range(1,11)])"
   ]
  },
  {
   "cell_type": "markdown",
   "id": "f41da84a-7f3e-46e2-9d69-cba666f9555e",
   "metadata": {},
   "source": [
    "#### <span style=\"color:#22AACC\">Question 02: Pascal Triangle</span>\n",
    "\n",
    "This question asks for a function which returns an element\n",
    "of the Pascal's triangle. \n",
    "\n",
    "The easiest approach is to use the Pascal's rule:\n",
    "\n",
    "${n-1 \\choose k}+{n-1 \\choose k-1}={n \\choose k}$"
   ]
  },
  {
   "cell_type": "code",
   "execution_count": 20,
   "id": "e33ea505-be54-4103-a50d-a0017609cc9a",
   "metadata": {},
   "outputs": [],
   "source": [
    "\"\"\"\"\"\"\"\"\"\"\"\"\"\"\"\"\"\"\"\"\"\"\"\"\"\"\"\"\"\"\"\"\"\"\"\"\"\"\"\"\"\"\"\"\"\"\"\"\"\"\"\"\"\"\"\"\"\"\"\"\"\"\"\"\"\"\"\"\"\"\"\"\"\"\"\"\"\n",
    "\n",
    "    Pascal's Triangle\n",
    "    \n",
    "    Using Pascal's rule, a solution through recurrence can \n",
    "    be easily coded.\n",
    "\n",
    "\"\"\"\"\"\"\"\"\"\"\"\"\"\"\"\"\"\"\"\"\"\"\"\"\"\"\"\"\"\"\"\"\"\"\"\"\"\"\"\"\"\"\"\"\"\"\"\"\"\"\"\"\"\"\"\"\"\"\"\"\"\"\"\"\"\"\"\"\"\"\"\"\"\"\"\"\"\n",
    "\n",
    "cache = {}\n",
    "def pascal2args(n,m):\n",
    "    #Undefined Binomials\n",
    "    if n < 0 or m < 0 or n < m:\n",
    "        return 0\n",
    "    #Base Cases\n",
    "    if n == m or m == 0:\n",
    "        return 1\n",
    "    if m == 1 or n-m == 1:\n",
    "        return n\n",
    "    #Recursion\n",
    "    if (n,m) not in cache:\n",
    "        cache[(n,m)] = pascal2args(n-1,m-1) + pascal2args(n-1,m)\n",
    "    return cache[(n,m)]"
   ]
  },
  {
   "cell_type": "code",
   "execution_count": 25,
   "id": "030f757a-1b8d-4617-ba90-be8152645a4d",
   "metadata": {},
   "outputs": [
    {
     "name": "stdout",
     "output_type": "stream",
     "text": [
      "[1]\n",
      "[1, 1]\n",
      "[1, 2, 1]\n",
      "[1, 3, 3, 1]\n",
      "[1, 4, 6, 4, 1]\n",
      "[1, 5, 10, 10, 5, 1]\n",
      "[1, 6, 15, 20, 15, 6, 1]\n",
      "[1, 7, 21, 35, 35, 21, 7, 1]\n",
      "[1, 8, 28, 56, 70, 56, 28, 8, 1]\n",
      "\n",
      "Element (8,4): 70\n"
     ]
    }
   ],
   "source": [
    "#Driver Code\n",
    "n = 8; m = 4\n",
    "\n",
    "#Print the whole triangle until the row of the element asked for: \n",
    "for i in range(n+1):\n",
    "    l = []\n",
    "    for j in range(i+1):\n",
    "        l.append(pascal2args(i,j))\n",
    "    print(l)\n",
    "    \n",
    "#Print a single element:\n",
    "print(\"\\nElement (%d,%d): %d\" % (n,m,pascal2args(n,m)))"
   ]
  },
  {
   "cell_type": "markdown",
   "id": "e0efd2ed-d34f-44eb-bc37-7ef35fe57bb5",
   "metadata": {},
   "source": [
    "#### <span style=\"color:#22AACC\">Question 03: Check if a number is prime</span>"
   ]
  },
  {
   "cell_type": "code",
   "execution_count": 2,
   "id": "c039b733-f30f-49bf-8f9c-c356996324c6",
   "metadata": {},
   "outputs": [],
   "source": [
    "\"\"\"\"\"\"\"\"\"\"\"\"\"\"\"\"\"\"\"\"\"\"\"\"\"\"\"\"\"\"\"\"\"\"\"\"\"\"\"\"\"\"\"\"\"\"\"\"\"\"\"\"\"\n",
    "\n",
    "    Prime Number Verification\n",
    "    \n",
    "    This one is also quite straightforward.\n",
    "    However, pay attention to some details to avoid\n",
    "    unnecessary computations. You only need to check\n",
    "    odd numbers and also you can stop at the square root \n",
    "    of the number because starting at this value the \n",
    "    factors start to repeat\n",
    "    \n",
    "\"\"\"\"\"\"\"\"\"\"\"\"\"\"\"\"\"\"\"\"\"\"\"\"\"\"\"\"\"\"\"\"\"\"\"\"\"\"\"\"\"\"\"\"\"\"\"\"\"\"\"\"\"\n",
    "\n",
    "import math\n",
    "def prime(n):\n",
    "    #Trivial Cases\n",
    "    if n == 2: return True\n",
    "    elif n < 2 or n%2 == 0:\n",
    "        return False\n",
    "    for i in range(3, math.floor(math.sqrt(n))+1, 2):\n",
    "        if n%i == 0:\n",
    "            return False\n",
    "    return True\n"
   ]
  },
  {
   "cell_type": "code",
   "execution_count": 5,
   "id": "541a47ce-c417-4d66-afcc-990558abd7a5",
   "metadata": {},
   "outputs": [
    {
     "name": "stdout",
     "output_type": "stream",
     "text": [
      "27 is prime: False\n",
      "28 is prime: False\n",
      "29 is prime: True\n"
     ]
    }
   ],
   "source": [
    "#Driver Code\n",
    "for n in range(27,30):\n",
    "    print(\"{} is prime: {}\".format(n,prime(n)))"
   ]
  },
  {
   "cell_type": "markdown",
   "id": "f4a09463-320a-4839-beb9-a347a9e41992",
   "metadata": {},
   "source": [
    "#### <span style=\"color:#22AACC\">Question 04: Write a function to calculate the square root of a number</span>\n",
    "\n",
    "A good approach to this question is to solve\n",
    "numerically by applying the Newton-Rhapson method:\n",
    "\n",
    "$x_{n+1}=x_{n}-{\\frac {f(x_{n})}{f'(x_{n})}}$"
   ]
  },
  {
   "cell_type": "code",
   "execution_count": 2,
   "id": "382f052f-2e74-4393-bb65-1d51293bcd25",
   "metadata": {},
   "outputs": [],
   "source": [
    "\"\"\"\"\"\"\"\"\"\"\"\"\"\"\"\"\"\"\"\"\"\"\"\"\"\"\"\"\"\"\"\"\"\"\"\"\"\"\"\"\"\"\"\"\"\"\"\"\"\"\"\"\"\n",
    "\n",
    "    Square Root (Newton-Rhapson)\n",
    "    \n",
    "    Defining the equation:\n",
    "    \n",
    "    x**2 - n = 0, \n",
    "    \n",
    "    and solving for x iteratively \n",
    "    by using Newton-Rhapson, or Bisection method\n",
    "    we find the square root on n\n",
    "    \n",
    "\"\"\"\"\"\"\"\"\"\"\"\"\"\"\"\"\"\"\"\"\"\"\"\"\"\"\"\"\"\"\"\"\"\"\"\"\"\"\"\"\"\"\"\"\"\"\"\"\"\"\"\"\"\n",
    "\n",
    "def sroot(n):\n",
    "    #Define the accuracy\n",
    "    eps = 1e-12\n",
    "    #Initial guess\n",
    "    x = n//2\n",
    "    #Newton Rhapson for the equation\n",
    "    #x**2 - n = 0\n",
    "    while abs(x**2-n) > eps:\n",
    "        x -= 0.5*(x-n/x)\n",
    "    return round(x,5)"
   ]
  },
  {
   "cell_type": "code",
   "execution_count": 8,
   "id": "5a6a79a1-5f93-4441-8751-83d42f8d2211",
   "metadata": {},
   "outputs": [
    {
     "name": "stdout",
     "output_type": "stream",
     "text": [
      "sqrt(300) = 17.32051\n"
     ]
    }
   ],
   "source": [
    "#Driver Code\n",
    "n = 300; print(\"sqrt({}) = {}\".format(n, sroot(n)))"
   ]
  },
  {
   "cell_type": "markdown",
   "id": "493ce9be-94a4-4b40-a376-74d86a71a991",
   "metadata": {},
   "source": [
    "#### <span style=\"color:#22AACC\">Question 05: Bishop on a Chess Board</span>\n",
    "\n",
    "The problem asks to write a function that returns the minimum \n",
    "number of moves for a bishop to capture a piece from the opponent"
   ]
  },
  {
   "cell_type": "code",
   "execution_count": 17,
   "id": "6e754ce4-d0f8-4c0a-ab1b-251c5da86294",
   "metadata": {},
   "outputs": [],
   "source": [
    "\"\"\"\"\"\"\"\"\"\"\"\"\"\"\"\"\"\"\"\"\"\"\"\"\"\"\"\"\"\"\"\"\"\"\"\"\"\"\"\"\"\"\"\"\"\"\"\n",
    "\n",
    "    #6  Bishop - number of \n",
    "    moves to capture a piece\n",
    "    \n",
    "\"\"\"\"\"\"\"\"\"\"\"\"\"\"\"\"\"\"\"\"\"\"\"\"\"\"\"\"\"\"\"\"\"\"\"\"\"\"\"\"\"\"\"\"\"\"\"\n",
    "\n",
    "def bishop(pos1,pos2):\n",
    "    #Converting rows and columns into integers\n",
    "    r1,r2 = int(pos1[1]), int(pos2[1])\n",
    "    c1,c2 = ord(pos1[0]), ord(pos2[0])\n",
    "    #Opponent's piece in a square of a different colour\n",
    "    if (c1+r1)%2 != (c2+r2)%2:\n",
    "        return -1\n",
    "    #Trivial case of pieces on the same square (impossible)\n",
    "    if c1==c2 and r1==r2:\n",
    "        return 0\n",
    "    #Pieces on the same diagonal\n",
    "    if abs(c1-c2) == abs(r1-r2):\n",
    "        return 1\n",
    "    else: return 2"
   ]
  },
  {
   "cell_type": "code",
   "execution_count": 16,
   "id": "1eb6b65b-4b75-44d7-ad53-d72f10844693",
   "metadata": {},
   "outputs": [
    {
     "name": "stdout",
     "output_type": "stream",
     "text": [
      "Same Square: 0\n",
      "Different Colours: -1\n",
      "Same Diagonal: 1\n",
      "Same colour and different diagonal: 2\n"
     ]
    }
   ],
   "source": [
    "#Driver Code\n",
    "print(f\"Same Square: {bishop('A1','A1')}\", f\"Different Colours: {bishop('A1','A2')}\", f\"Same Diagonal: {bishop('A1','C3')}\",\n",
    "      f\"Same colour and different diagonal: {bishop('E1','C5')}\", sep=\"\\n\")"
   ]
  }
 ],
 "metadata": {
  "kernelspec": {
   "display_name": "Python 3 (ipykernel)",
   "language": "python",
   "name": "python3"
  },
  "language_info": {
   "codemirror_mode": {
    "name": "ipython",
    "version": 3
   },
   "file_extension": ".py",
   "mimetype": "text/x-python",
   "name": "python",
   "nbconvert_exporter": "python",
   "pygments_lexer": "ipython3",
   "version": "3.8.8"
  }
 },
 "nbformat": 4,
 "nbformat_minor": 5
}
