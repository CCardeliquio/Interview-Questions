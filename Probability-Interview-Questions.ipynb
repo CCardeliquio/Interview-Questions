{
 "cells": [
  {
   "cell_type": "markdown",
   "id": "123a15f2-2220-49d6-b2ca-ddb7a7ba1e2c",
   "metadata": {},
   "source": [
    "### <span style=\"color:#EE4455\"> Probability Questions</span>"
   ]
  },
  {
   "cell_type": "markdown",
   "id": "5a6b10ec-d215-4e58-9b5c-c19c1e3245d0",
   "metadata": {},
   "source": [
    "### <span style=\"color:#22AACC\">100 Marbles</span>\n",
    "\n",
    "In this question, you have 100 marbles (any amount actually, but let's start with 100), where half are blue and half are red. You also have at your disposal two urns. You have to divide all marbles between these two urns. After this, you'll select an urn by chance and one marble from this urn. You win the game if the marble is blue and lose if it is red. How can you divide those marbles between these two urns to maximize your probability of winning?\n",
    "\n",
    "The optimal solution is to put only one blue ball on one of the urns and all the rest on the second one. This way your proability of winning is:\n",
    "\n",
    "$\\begin{equation}\\dfrac{1}{2} + \\dfrac{1}{2}\\dfrac{49}{99}\\end{equation} = 0.7474...$\n",
    "\n",
    "That is, 50% of chance of getting the urn with the blue ball and in this case 100% of change of winning (no red balls here) plus 50% of chance of getting the other urn with 99 marbles times the probability of getting a blue ball there (49/99).\n",
    "\n",
    "As the number o marbles increase, the propability converges to 75%. Let us code this up."
   ]
  },
  {
   "cell_type": "code",
   "execution_count": 15,
   "id": "loved-penalty",
   "metadata": {},
   "outputs": [
    {
     "name": "stdout",
     "output_type": "stream",
     "text": [
      "Highest Probability: 0.747475\n",
      "Urn 1: Blue: 1\tRed: 0\n",
      "Urn 2: Blue: 49\tRed: 50\n"
     ]
    }
   ],
   "source": [
    "def balls(r=5, b=5):\n",
    "    \n",
    "    #The function accepts any number of marbles\n",
    "    #with the default value of 5 of each colour\n",
    "    p = {}\n",
    "    for i in range(r+1):\n",
    "        for j in range(b+1):\n",
    "            if  not ( (i ==0  and j ==0) or (i==r and j == b) ):\n",
    "                p[(i,j)] = 0.5*i/(i+j) + 0.5*(b-i)/(b+r-i-j)\n",
    "    return p \n",
    "\n",
    "#Let us calculate the prob for 100 marbles\n",
    "p = balls(50,50)\n",
    "prob = max((value, key) for key, value in p.items())[0]\n",
    "comb = tuple(max((value, key) for key, value in p.items())[1])\n",
    "print(\"Highest Probability: %.6f\" % prob)\n",
    "print(\"Urn 1: Blue: %d\\tRed: %d\" % ((50-comb[0]), (50-comb[1])))\n",
    "print(\"Urn 2: Blue: %d\\tRed: %d\" % comb)"
   ]
  },
  {
   "cell_type": "markdown",
   "id": "9f591d09-ce9f-4714-8c97-014f2d45eec5",
   "metadata": {},
   "source": [
    "### <span style=\"color:#22AACC\">Buffon's Needle</span>"
   ]
  },
  {
   "cell_type": "code",
   "execution_count": 1,
   "id": "gross-small",
   "metadata": {},
   "outputs": [
    {
     "data": {
      "text/plain": [
       "3.14052"
      ]
     },
     "execution_count": 1,
     "metadata": {},
     "output_type": "execute_result"
    }
   ],
   "source": [
    "#Estimating pi using the Buffon Needle problem\n",
    "import random\n",
    "import numpy as np\n",
    "def buffonNeddle(l,t,N):\n",
    "    L = 0\n",
    "    for _ in range(N):\n",
    "        x = random.uniform(0,t/2)\n",
    "        theta = random.uniform(0,np.pi/2)\n",
    "        if x <= 0.5*l*np.sin(theta):\n",
    "            L +=1\n",
    "        P = L/N\n",
    "    return round(2*l/(t*P),5)\n",
    "\n",
    "buffonNeddle(1,1,1_000_000)"
   ]
  }
 ],
 "metadata": {
  "kernelspec": {
   "display_name": "Python 3 (ipykernel)",
   "language": "python",
   "name": "python3"
  },
  "language_info": {
   "codemirror_mode": {
    "name": "ipython",
    "version": 3
   },
   "file_extension": ".py",
   "mimetype": "text/x-python",
   "name": "python",
   "nbconvert_exporter": "python",
   "pygments_lexer": "ipython3",
   "version": "3.8.8"
  }
 },
 "nbformat": 4,
 "nbformat_minor": 5
}
